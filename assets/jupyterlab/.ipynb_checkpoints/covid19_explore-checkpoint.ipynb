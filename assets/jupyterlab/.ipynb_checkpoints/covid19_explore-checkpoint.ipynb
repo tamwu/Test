{
 "cells": [
  {
   "cell_type": "code",
   "execution_count": 1,
   "metadata": {},
   "outputs": [
    {
     "data": {
      "text/html": [
       "<div>\n",
       "<style scoped>\n",
       "    .dataframe tbody tr th:only-of-type {\n",
       "        vertical-align: middle;\n",
       "    }\n",
       "\n",
       "    .dataframe tbody tr th {\n",
       "        vertical-align: top;\n",
       "    }\n",
       "\n",
       "    .dataframe thead th {\n",
       "        text-align: right;\n",
       "    }\n",
       "</style>\n",
       "<table border=\"1\" class=\"dataframe\">\n",
       "  <thead>\n",
       "    <tr style=\"text-align: right;\">\n",
       "      <th></th>\n",
       "      <th>COL1</th>\n",
       "    </tr>\n",
       "  </thead>\n",
       "  <tbody>\n",
       "  </tbody>\n",
       "</table>\n",
       "</div>"
      ],
      "text/plain": [
       "Empty DataFrame\n",
       "Columns: [COL1]\n",
       "Index: []"
      ]
     },
     "execution_count": 1,
     "metadata": {},
     "output_type": "execute_result"
    }
   ],
   "source": [
    "\n",
    "# @hidden_cell\n",
    "# This connection object is used to access your data and contains your credentials.\n",
    "# You might want to remove those credentials before you share your notebook.\n",
    "\n",
    "from project_lib import Project\n",
    "project = Project.access()\n",
    "Covid_19_cases_by_states__credentials = project.get_connected_data(name=\"Covid-19 cases by states \")\n",
    "\n",
    "import jaydebeapi, pandas as pd\n",
    "Covid_19_cases_by_states__connection = jaydebeapi.connect('com.ibm.db2.jcc.DB2Driver',\n",
    "    '{}://{}:{}/{}:user={};password={};'.format('jdbc:db2',\n",
    "    Covid_19_cases_by_states__credentials['host'],\n",
    "    '50000',\n",
    "    Covid_19_cases_by_states__credentials['database'],\n",
    "    Covid_19_cases_by_states__credentials['username'],\n",
    "    Covid_19_cases_by_states__credentials['password']))\n",
    "\n",
    "query = 'SELECT * FROM HQF66087.COVID_STATES'\n",
    "data_df_1 = pd.read_sql(query, con=Covid_19_cases_by_states__connection)\n",
    "data_df_1.head()\n",
    "\n",
    "# You can close the database connection with the following code.\n",
    "# Covid_19_cases_by_states__connection.close()\n",
    "# To learn more about the jaydebeapi package, please read the documentation: https://pypi.org/project/JayDeBeApi/\n"
   ]
  },
  {
   "cell_type": "code",
   "execution_count": null,
   "metadata": {},
   "outputs": [],
   "source": []
  }
 ],
 "metadata": {
  "kernelspec": {
   "display_name": "Python 3.6",
   "language": "python",
   "name": "python3"
  },
  "language_info": {
   "codemirror_mode": {
    "name": "ipython",
    "version": 3
   },
   "file_extension": ".py",
   "mimetype": "text/x-python",
   "name": "python",
   "nbconvert_exporter": "python",
   "pygments_lexer": "ipython3",
   "version": "3.6.8"
  }
 },
 "nbformat": 4,
 "nbformat_minor": 4
}
